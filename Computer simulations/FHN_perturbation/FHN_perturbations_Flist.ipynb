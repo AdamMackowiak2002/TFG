{
 "cells": [
  {
   "cell_type": "code",
   "execution_count": 58,
   "metadata": {},
   "outputs": [],
   "source": [
    "#importam llibreries\n",
    "import numpy as np\n",
    "import matplotlib.pyplot as plt"
   ]
  },
  {
   "cell_type": "markdown",
   "metadata": {},
   "source": [
    "FUNCTIONS"
   ]
  },
  {
   "cell_type": "code",
   "execution_count": 59,
   "metadata": {},
   "outputs": [],
   "source": [
    "def perturbation(t,to,F,sigma):\n",
    "    return F*np.exp(-(t-to)**2/(2*sigma**2))"
   ]
  },
  {
   "cell_type": "code",
   "execution_count": 60,
   "metadata": {},
   "outputs": [],
   "source": [
    "def no_perturbation(t,to,F,sigma):\n",
    "    return 0"
   ]
  },
  {
   "cell_type": "code",
   "execution_count": 61,
   "metadata": {},
   "outputs": [],
   "source": [
    "def RHS_Vanderpol(t,w,parameters): #eqs Vanderpol\n",
    "    v = w[1]\n",
    "    x = w[0]\n",
    "    f_x = v \n",
    "    mu = parameters[0]\n",
    "    f_v =  mu*(1-x**2)*v - x\n",
    "    return np.array([f_x,f_v])"
   ]
  },
  {
   "cell_type": "code",
   "execution_count": 62,
   "metadata": {},
   "outputs": [],
   "source": [
    "def RHS_FHN(t,w,par,func,F): #eqs FHN\n",
    "    sigma=1\n",
    "    to=5*sigma\n",
    "    y = w[1]\n",
    "    x = w[0]\n",
    "    a = par[0]\n",
    "    eps = par[1]\n",
    "    f_x = x- x**3/3 - y + func(t,to,F,sigma)\n",
    "    f_y = eps*(x-a) \n",
    "    return np.array([f_x,f_y])"
   ]
  },
  {
   "cell_type": "code",
   "execution_count": 63,
   "metadata": {},
   "outputs": [],
   "source": [
    "def rk(func,parameters, K_pasos, Samp, t_i, w_i, b,F):  #funció que fa RK i torna el resultat i els vectors\n",
    "    h = parameters[-1]\n",
    "    t = t_i\n",
    "    w = w_i  \n",
    "    TR = np.zeros(((len(w)+1), int(np.ceil(K_pasos/Samp))))  #matriu buida amb columnes per a cada vector i el temps i files depenent de la relació entre passes i les que volem guardar\n",
    "    i = 0  #contador\n",
    "    if b==0: #No perturbation\n",
    "        for j in range(0,K_pasos):\n",
    "            k1 = h * func(t,w,parameters,no_perturbation,F)                     #RK 2n ordre\n",
    "            k2 = h * func(t + h/2, w + k1/2,parameters,no_perturbation,F)\n",
    "\n",
    "            t = t + h\n",
    "            w = w + k2 \n",
    "\n",
    "            if j % Samp == 0:   #if the remainder is 0, guardam els vectors a la seva columna\n",
    "                TR[0,i] = t  \n",
    "                TR[1,i] = w[0]\n",
    "                TR[2,i] = w[1]\n",
    "                i += 1\n",
    "    else: #Perturbation\n",
    "        for j in range(0,K_pasos):\n",
    "            k1 = h * func(t,w,parameters,perturbation,F)                     #RK 2n ordre\n",
    "            k2 = h * func(t + h/2, w + k1/2,parameters,perturbation,F)\n",
    "\n",
    "            t = t + h\n",
    "            w = w + k2 \n",
    "\n",
    "            if j % Samp == 0:   #if the remainder is 0, guardam els vectors a la seva columna\n",
    "                TR[0,i] = t  \n",
    "                TR[1,i] = w[0]\n",
    "                TR[2,i] = w[1]\n",
    "                i += 1\n",
    "    return TR , w , t #torna la matriu i els vectors"
   ]
  },
  {
   "cell_type": "markdown",
   "metadata": {},
   "source": [
    "Parameters and initial conditions"
   ]
  },
  {
   "cell_type": "code",
   "execution_count": 64,
   "metadata": {},
   "outputs": [],
   "source": [
    "a=-1.1\n",
    "eps = 0.01 #epsilon\n",
    "h = 0.01   #pas \n",
    "\n",
    "K_pasos1 = int(5e4)\n",
    "K_pasos2 = int(K_pasos1)   \n",
    "Samp = 10 #cada quant volem guardar\n",
    "t_i = 0 #temps inicial\n",
    "\n",
    "#He puesto como condiciones inciales los valores que anulan fx y fy (es decir, el punto de equilibrio)\n",
    "x_i = -1.1 \n",
    "y_i = -0.6563\n",
    "\n",
    "#good for xxxx valors inicials (put ic 1,0.6 closet to SS for a=1)\n",
    "#x_i = 1 \n",
    "#y_i = 0.6 \n",
    "\n",
    "\n",
    "w_i = np.array([x_i,y_i]) #vector amb els valors inicials\n",
    "\n",
    "F_list=np.linspace(0.1,0.3,200)"
   ]
  },
  {
   "cell_type": "markdown",
   "metadata": {},
   "source": [
    "Runge-Kutta second order"
   ]
  },
  {
   "cell_type": "code",
   "execution_count": 65,
   "metadata": {},
   "outputs": [
    {
     "data": {
      "text/plain": [
       "'\\nPonemos t_i=0 en ambos rk. Nuestras condiciones de contorno son muy cercanas al punto de equilibrio y luego corremos un runge-kutta para asegurarnos de que sí o sí esté ya en el equiibrio. Acto seguido cogemos el punto final del primer\\nrunge-kutta y lo ponemos en el segundo y corremos la simulación con una perturbación.\\n'"
      ]
     },
     "execution_count": 65,
     "metadata": {},
     "output_type": "execute_result"
    }
   ],
   "source": [
    "parameters = np.array([a , eps, h])  #vector amb els paràmetres a, epsilon i h\n",
    "x_max=np.zeros(len(F_list))\n",
    "c = 0 #contador\n",
    "for F in F_list: \n",
    "    #bucle per a que faci el càlcul per a cada F\n",
    "    [TR , w_1, t_1] = rk(RHS_FHN, parameters, K_pasos1 , Samp, t_i ,w_i,b=0,F=F)    #matriu i vector resultants dels valors inicials\n",
    "    [TR , w_2, t_2] = rk(RHS_FHN, parameters, K_pasos2 , Samp, t_i ,w_1,b=1,F=F)    #torna a fer RK però començant on a acabat l'altre i amb una k diferent\n",
    "    w_i = w_2 #per a la següent a comença on ha acabat l'anterior #matriu i vector resultants dels valors inicials\n",
    "    x_max[c]=np.max(TR[1])\n",
    "    c = c + 1\n",
    "\n",
    "\n",
    "\"\"\"\n",
    "Ponemos t_i=0 en ambos rk. Nuestras condiciones de contorno son muy cercanas al punto de equilibrio y luego corremos un runge-kutta para asegurarnos de que sí o sí esté ya en el equiibrio. Acto seguido cogemos el punto final del primer\n",
    "runge-kutta y lo ponemos en el segundo y corremos la simulación con una perturbación.\n",
    "\"\"\""
   ]
  },
  {
   "cell_type": "markdown",
   "metadata": {},
   "source": [
    "Nullclines "
   ]
  },
  {
   "cell_type": "code",
   "execution_count": 66,
   "metadata": {},
   "outputs": [],
   "source": [
    "# graficar la recta i la cúbica\n",
    "Y = np.zeros(100)\n",
    "X = np.zeros(100)\n",
    "i  = 0\n",
    "linx = np.linspace(-2.5,2.5,100)\n",
    "liny = np.linspace(-6,6,100) \n",
    "for x in linx:\n",
    "    y = x-x**3/3\n",
    "    Y[i] = y\n",
    "    X[i] = a\n",
    "    i+=1     "
   ]
  },
  {
   "cell_type": "markdown",
   "metadata": {},
   "source": [
    "Flowlike graph with arrows"
   ]
  },
  {
   "cell_type": "code",
   "execution_count": 67,
   "metadata": {},
   "outputs": [],
   "source": [
    "x_array_arrow=np.linspace(-2.5,2.5,12)\n",
    "y_array_arrow=np.linspace(-6,6,12)\n",
    "\n",
    "\n",
    "#x_array_arrow=np.linspace(-2.5,2.5,128)\n",
    "#y_array_arrow=np.linspace(-6,6,128)\n",
    "\n",
    "\n",
    "x_grid_arrow, y_grid_arrow = np.meshgrid(x_array_arrow, y_array_arrow)\n"
   ]
  },
  {
   "cell_type": "markdown",
   "metadata": {},
   "source": [
    "PLOTTING"
   ]
  },
  {
   "cell_type": "code",
   "execution_count": 68,
   "metadata": {},
   "outputs": [],
   "source": [
    "%matplotlib widget"
   ]
  },
  {
   "cell_type": "code",
   "execution_count": 70,
   "metadata": {},
   "outputs": [
    {
     "data": {
      "application/vnd.jupyter.widget-view+json": {
       "model_id": "4da6853572fd4ca8966ae82032c5f040",
       "version_major": 2,
       "version_minor": 0
      },
      "image/png": "[encoded data removed]",
      "text/html": [
       "\n",
       "            <div style=\"display: inline-block;\">\n",
       "                <div class=\"jupyter-widgets widget-label\" style=\"text-align: center;\">\n",
       "                    Figure\n",
       "                </div>\n",
       "                <img src='data:image/png;base64,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' width=800.0/>\n",
       "            </div>\n",
       "        "
      ],
      "text/plain": [
       "Canvas(toolbar=Toolbar(toolitems=[('Home', 'Reset original view', 'home', 'home'), ('Back', 'Back to previous …"
      ]
     },
     "metadata": {},
     "output_type": "display_data"
    }
   ],
   "source": [
    "fig, ax = plt.subplots(figsize=(8,6))\n",
    "c=0\n",
    "for F in F_list:\n",
    "    ax.scatter(F,x_max[c], color='blue', label = 'F=' + str(F)[:6])\n",
    "    c+=1\n",
    "ax.grid(False)\n",
    "ax.set_ylabel('max(x)', fontsize=18)\n",
    "ax.set_xlabel('F',fontsize=18)\n",
    "ax.ticklabel_format(style='sci',scilimits=(-4,-4),axis='x',useMathText=True)\n",
    "ax.xaxis.set_major_formatter(plt.FuncFormatter(lambda x, _: f'{x:.3f}'))  # Limita a 2 dígitos decimales\n",
    "ax.set_title('max(x) vs F',fontsize=18)\n",
    "ax.tick_params(axis='y', labelsize=14) \n",
    "ax.tick_params(axis='x', labelsize=14)\n",
    "\n",
    "plt.show()"
   ]
  },
  {
   "cell_type": "code",
   "execution_count": null,
   "metadata": {},
   "outputs": [],
   "source": []
  },
  {
   "cell_type": "markdown",
   "metadata": {},
   "source": []
  }
 ],
 "metadata": {
  "kernelspec": {
   "display_name": "Python 3",
   "language": "python",
   "name": "python3"
  },
  "language_info": {
   "codemirror_mode": {
    "name": "ipython",
    "version": 3
   },
   "file_extension": ".py",
   "mimetype": "text/x-python",
   "name": "python",
   "nbconvert_exporter": "python",
   "pygments_lexer": "ipython3",
   "version": "3.12.4"
  },
  "orig_nbformat": 4
 },
 "nbformat": 4,
 "nbformat_minor": 2
}
